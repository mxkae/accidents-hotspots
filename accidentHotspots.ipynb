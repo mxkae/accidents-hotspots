{
 "cells": [
  {
   "attachments": {},
   "cell_type": "markdown",
   "metadata": {},
   "source": [
    "Import Packages"
   ]
  },
  {
   "cell_type": "code",
   "execution_count": 1,
   "metadata": {},
   "outputs": [],
   "source": [
    "import pandas as pd\n",
    "from sklearn.cluster import KMeans\n",
    "from sklearn.preprocessing import StandardScaler\n",
    "import matplotlib.pyplot as plt"
   ]
  },
  {
   "attachments": {},
   "cell_type": "markdown",
   "metadata": {},
   "source": [
    "Load and Prepare Data from Kaggle: https://www.kaggle.com/code/esparko/getting-started-tweet2map-dataset/input"
   ]
  },
  {
   "cell_type": "code",
   "execution_count": 2,
   "metadata": {},
   "outputs": [],
   "source": [
    "data = pd.read_csv(\"data_mmda_traffic_spatial.csv\")\n",
    "data.head()\n",
    "data = data[(data['Latitude'] != 0.0) & (data['Longitude'] != 0.0)]"
   ]
  },
  {
   "attachments": {},
   "cell_type": "markdown",
   "metadata": {},
   "source": [
    "Pre-process the data and set the feature variables to be used"
   ]
  },
  {
   "cell_type": "code",
   "execution_count": 3,
   "metadata": {},
   "outputs": [],
   "source": [
    "features = data[[\"Latitude\", \"Longitude\"]]\n",
    "scaler = StandardScaler()\n",
    "scaled_features = scaler.fit_transform(features)"
   ]
  },
  {
   "attachments": {},
   "cell_type": "markdown",
   "metadata": {},
   "source": [
    "Determine the appropriate number of clusters"
   ]
  },
  {
   "cell_type": "code",
   "execution_count": 4,
   "metadata": {},
   "outputs": [
    {
     "data": {
      "image/png": "[encoded data removed]",
      "text/plain": [
       "<Figure size 432x288 with 1 Axes>"
      ]
     },
     "metadata": {
      "needs_background": "light"
     },
     "output_type": "display_data"
    }
   ],
   "source": [
    "inertia = []\n",
    "\n",
    "for K in range(1, 11):\n",
    "    kmeans = KMeans(n_clusters=K, random_state=0)\n",
    "    clusters = kmeans.fit_predict(scaled_features)\n",
    "    inertia.append(kmeans.inertia_)\n",
    "\n",
    "plt.plot(range(1, 11), inertia, 'o-')\n",
    "plt.xlabel('Number of clusters (K)')\n",
    "plt.ylabel('Inertia')\n",
    "plt.title('Elbow Method For Optimal K')\n",
    "plt.show()"
   ]
  },
  {
   "attachments": {},
   "cell_type": "markdown",
   "metadata": {},
   "source": [
    "Perform clustering using the K-means algorithm"
   ]
  },
  {
   "cell_type": "code",
   "execution_count": 5,
   "metadata": {},
   "outputs": [
    {
     "data": {
      "text/plain": [
       "KMeans(n_clusters=4)"
      ]
     },
     "execution_count": 5,
     "metadata": {},
     "output_type": "execute_result"
    }
   ],
   "source": [
    "num_clusters = 4\n",
    "kmeans = KMeans(n_clusters=num_clusters)\n",
    "kmeans.fit(scaled_features)"
   ]
  },
  {
   "attachments": {},
   "cell_type": "markdown",
   "metadata": {},
   "source": [
    "Label the clusters"
   ]
  },
  {
   "cell_type": "code",
   "execution_count": 6,
   "metadata": {},
   "outputs": [],
   "source": [
    "data['cluster'] = kmeans.labels_"
   ]
  },
  {
   "attachments": {},
   "cell_type": "markdown",
   "metadata": {},
   "source": [
    "Show the clusters"
   ]
  },
  {
   "cell_type": "code",
   "execution_count": 7,
   "metadata": {},
   "outputs": [
    {
     "name": "stdout",
     "output_type": "stream",
     "text": [
      "Cluster 0:\n",
      "        Latitude   Longitude\n",
      "0      14.586343  121.061481\n",
      "1      14.589432  121.057243\n",
      "2      14.559818  121.040737\n",
      "3      14.589432  121.057243\n",
      "4      14.601846  121.046754\n",
      "...          ...         ...\n",
      "17304  14.586681  121.056314\n",
      "17305  14.582431  121.054467\n",
      "17308  14.559818  121.040737\n",
      "17309  14.616404  121.052548\n",
      "17310  14.593548  121.058028\n",
      "\n",
      "[8343 rows x 2 columns]\n",
      "------------------------------------\n",
      "Cluster 1:\n",
      "        Latitude   Longitude\n",
      "9      14.619717  121.050978\n",
      "17     14.628035  121.047229\n",
      "18     14.628035  121.047229\n",
      "25     14.653739  121.038708\n",
      "27     14.639754  121.030335\n",
      "...          ...         ...\n",
      "17282  14.641357  121.032867\n",
      "17292  14.657174  120.986269\n",
      "17298  14.657294  120.993262\n",
      "17303  14.641388  121.032974\n",
      "17306  14.639692  121.040453\n",
      "\n",
      "[3727 rows x 2 columns]\n",
      "------------------------------------\n",
      "Cluster 2:\n",
      "        Latitude   Longitude\n",
      "14     14.537348  120.993593\n",
      "21     14.528998  120.993456\n",
      "23     14.537979  121.004863\n",
      "24     14.609729  120.992720\n",
      "29     14.550028  121.029058\n",
      "...          ...         ...\n",
      "17296  14.550028  121.029058\n",
      "17297  14.550028  121.029058\n",
      "17299  14.552294  120.989491\n",
      "17307  14.585503  120.993783\n",
      "17311  14.600902  120.997352\n",
      "\n",
      "[2110 rows x 2 columns]\n",
      "------------------------------------\n",
      "Cluster 3:\n",
      "        Latitude   Longitude\n",
      "11     14.638481  121.074540\n",
      "12     14.638481  121.074540\n",
      "13     14.622242  121.086405\n",
      "20     14.659263  121.061261\n",
      "26     14.618807  121.092719\n",
      "...          ...         ...\n",
      "17284  14.615416  121.074246\n",
      "17286  14.631692  121.074217\n",
      "17287  14.615416  121.074246\n",
      "17300  14.668893  121.075699\n",
      "17301  14.619874  121.088685\n",
      "\n",
      "[3077 rows x 2 columns]\n",
      "------------------------------------\n"
     ]
    }
   ],
   "source": [
    "for cluster_id in range(num_clusters):\n",
    "    cluster_data = data[data['cluster'] == cluster_id]\n",
    "    print(f'Cluster {cluster_id}:')\n",
    "    print(cluster_data[['Latitude', 'Longitude']])\n",
    "    print('------------------------------------')"
   ]
  }
 ],
 "metadata": {
  "kernelspec": {
   "display_name": "base",
   "language": "python",
   "name": "python3"
  },
  "language_info": {
   "codemirror_mode": {
    "name": "ipython",
    "version": 3
   },
   "file_extension": ".py",
   "mimetype": "text/x-python",
   "name": "python",
   "nbconvert_exporter": "python",
   "pygments_lexer": "ipython3",
   "version": "3.8.8"
  },
  "orig_nbformat": 4
 },
 "nbformat": 4,
 "nbformat_minor": 2
}
